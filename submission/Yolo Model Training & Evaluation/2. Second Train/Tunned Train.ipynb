{
 "cells": [
  {
   "cell_type": "markdown",
   "metadata": {},
   "source": [
    "### Train the second model with updated hyperparameters"
   ]
  },
  {
   "cell_type": "code",
   "execution_count": null,
   "metadata": {},
   "outputs": [],
   "source": [
    "!python train.py --data data.yaml --weights runs/train/first_run2/weights/best.pt --cfg models/yolov5s.yaml --epochs 100 --batch-size 12 --img 640 --name tunned_run"
   ]
  },
  {
   "cell_type": "markdown",
   "metadata": {},
   "source": [
    "### Test the second trained model"
   ]
  },
  {
   "cell_type": "code",
   "execution_count": null,
   "metadata": {},
   "outputs": [],
   "source": [
    "!python val.py --data \"/content/yolov5/data.yaml\" --weights runs/train/tunned_run/weights/best.pt --task val --img 640"
   ]
  },
  {
   "cell_type": "markdown",
   "metadata": {},
   "source": [
    "### Apply inference using the 2nd trained model"
   ]
  },
  {
   "cell_type": "code",
   "execution_count": null,
   "metadata": {},
   "outputs": [],
   "source": [
    "!python detect.py --weights runs/train/tunned_run/weights/best.pt --img 640 --conf 0.25 --source \"/content/yolov5_split/val/images\" --save-txt"
   ]
  }
 ],
 "metadata": {
  "language_info": {
   "name": "python"
  }
 },
 "nbformat": 4,
 "nbformat_minor": 2
}
