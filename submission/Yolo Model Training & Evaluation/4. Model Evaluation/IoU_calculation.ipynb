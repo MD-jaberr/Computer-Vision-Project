{
 "cells": [
  {
   "cell_type": "markdown",
   "metadata": {},
   "source": [
    "### Check inference done on images with their labels"
   ]
  },
  {
   "cell_type": "markdown",
   "metadata": {},
   "source": [
    "Labels are saved as .txt files"
   ]
  },
  {
   "cell_type": "code",
   "execution_count": null,
   "metadata": {},
   "outputs": [],
   "source": [
    "import os\n",
    "\n",
    "for root, dirs, files in os.walk(\"runs/detect\"):\n",
    "    for file in files:\n",
    "        print(os.path.join(root, file))"
   ]
  },
  {
   "cell_type": "markdown",
   "metadata": {},
   "source": [
    "### Functions for iou"
   ]
  },
  {
   "cell_type": "code",
   "execution_count": null,
   "metadata": {},
   "outputs": [],
   "source": [
    "# Set image dimensions as specified when training yolo\n",
    "img_width = 640\n",
    "img_height = 640\n",
    "\n",
    "#convert yolo format to (x1, y1, x2, y2) that are not normalized\n",
    "def yolo_to_xyxy(xc, yc, w, h):\n",
    "    x1 = (xc - w / 2) * img_width\n",
    "    y1 = (yc - h / 2) * img_height\n",
    "    x2 = (xc + w / 2) * img_width\n",
    "    y2 = (yc + h / 2) * img_height\n",
    "    return [x1, y1, x2, y2]\n",
    "\n",
    "#compute IoU between ground truth and predicted bbox\n",
    "def compute_iou(boxA, boxB):\n",
    "    xA = max(boxA[0], boxB[0])\n",
    "    yA = max(boxA[1], boxB[1])\n",
    "    xB = min(boxA[2], boxB[2])\n",
    "    yB = min(boxA[3], boxB[3])\n",
    "    interArea = max(0, xB - xA) * max(0, yB - yA) #intersection of the areas\n",
    "    boxAArea = (boxA[2] - boxA[0]) * (boxA[3] - boxA[1]) #area of boxA\n",
    "    boxBArea = (boxB[2] - boxB[0]) * (boxB[3] - boxB[1]) #area of boxB\n",
    "    iou = interArea / (boxAArea + boxBArea - interArea) #getting intersection over union\n",
    "    return iou"
   ]
  },
  {
   "cell_type": "markdown",
   "metadata": {},
   "source": [
    "### Function to load each label file into a dictionary"
   ]
  },
  {
   "cell_type": "code",
   "execution_count": null,
   "metadata": {},
   "outputs": [],
   "source": [
    "#load predicted label files by yolo into a dictionary\n",
    "def load_predictions(pred_dir):\n",
    "    pred_dict = {}\n",
    "    for file in os.listdir(pred_dir):\n",
    "        if file.endswith(\".txt\"):\n",
    "            file_path = os.path.join(pred_dir, file)\n",
    "            with open(file_path, \"r\") as f:\n",
    "                lines = f.readlines()\n",
    "            boxes = []\n",
    "            for line in lines:\n",
    "                parts = list(map(float, line.strip().split()))\n",
    "                if len(parts) == 6:\n",
    "                    parts = parts[:5]  #retreive only class id and coordinates from yolo file\n",
    "                boxes.append(parts)  # [class_id, xc, yc, w, h]\n",
    "            pred_dict[file] = boxes\n",
    "    return pred_dict"
   ]
  },
  {
   "cell_type": "markdown",
   "metadata": {},
   "source": [
    "### Function to calculate all IoUs in the image"
   ]
  },
  {
   "cell_type": "code",
   "execution_count": null,
   "metadata": {},
   "outputs": [],
   "source": [
    "from glob import glob\n",
    "\n",
    "def compute_all_ious(gt_dir, pred_dir):\n",
    "    pred_dict = load_predictions(pred_dir) #path holding predicted bboxes\n",
    "    results = {}\n",
    "\n",
    "    for label_file in glob(os.path.join(gt_dir, \"*.txt\")): \n",
    "        filename = os.path.basename(label_file)\n",
    "        with open(label_file, \"r\") as f:\n",
    "            gt_lines = f.readlines()\n",
    "\n",
    "        gt_boxes = []\n",
    "        for line in gt_lines:\n",
    "            parts = list(map(float, line.strip().split()))\n",
    "            _, xc, yc, w, h = parts\n",
    "            gt_boxes.append(yolo_to_xyxy(xc, yc, w, h))\n",
    "\n",
    "        pred_boxes = []\n",
    "        if filename in pred_dict:\n",
    "            for pred in pred_dict[filename]:\n",
    "                _, xc, yc, w, h = pred\n",
    "                pred_boxes.append(yolo_to_xyxy(xc, yc, w, h))\n",
    "\n",
    "        image_ious = []\n",
    "        for gt_box in gt_boxes:\n",
    "            best_iou = 0\n",
    "            for pred_box in pred_boxes:\n",
    "                iou = compute_iou(gt_box, pred_box)\n",
    "                if iou > best_iou:\n",
    "                    best_iou = iou  #preserve only the bboxes with best iou\n",
    "            image_ious.append(best_iou)\n",
    "\n",
    "        results[filename] = image_ious\n",
    "\n",
    "    return results"
   ]
  },
  {
   "cell_type": "markdown",
   "metadata": {},
   "source": [
    "### Retreiving the IoUs"
   ]
  },
  {
   "cell_type": "code",
   "execution_count": null,
   "metadata": {},
   "outputs": [],
   "source": [
    "# Run the function on your data\n",
    "gt_dir = '../yolov5_split/val/labels'\n",
    "first_model_labels = 'runs/detect/exp5/labels'  #path holding the labels of test data by first model\n",
    "second_model_labels = 'runs/detect/exp4/labels'  #path holding the labels of test data by second model\n",
    "ious1 = compute_all_ious(gt_dir, first_model_labels)\n",
    "ious2 = compute_all_ious(gt_dir, second_model_labels)\n",
    "\n",
    "print(ious1.items())\n",
    "\n",
    "# Print results\n",
    "print('IoUs for the 1st model are as follows: ')\n",
    "for img_name, iou_list in ious1.items():\n",
    "    print(f\"{img_name}: IoUs = {iou_list}\")\n",
    "\n",
    "print('IoUs for the 2nd model are as follows: ')\n",
    "for img_name, iou_list in ious2.items():\n",
    "    print(f\"{img_name}: IoUs = {iou_list}\")"
   ]
  }
 ],
 "metadata": {
  "language_info": {
   "name": "python"
  }
 },
 "nbformat": 4,
 "nbformat_minor": 2
}
