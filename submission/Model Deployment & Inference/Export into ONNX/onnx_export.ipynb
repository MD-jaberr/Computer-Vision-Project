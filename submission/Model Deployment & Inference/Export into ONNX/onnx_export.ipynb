{
 "cells": [
  {
   "cell_type": "markdown",
   "metadata": {},
   "source": [
    "### Export to ONNX"
   ]
  },
  {
   "cell_type": "code",
   "execution_count": null,
   "metadata": {},
   "outputs": [],
   "source": [
    "%cd /content/yolov5/"
   ]
  },
  {
   "cell_type": "code",
   "execution_count": null,
   "metadata": {},
   "outputs": [],
   "source": [
    "from yolov5 import export\n",
    "from google.colab import files\n",
    "import shutil\n",
    "\n",
    "export.run(\n",
    "    weights='runs/train/tunned_run/weights/best.pt',  #path to .pt parameters (best weights attained)\n",
    "    imgsz=[640, 640], #image size\n",
    "    include=['onnx'] #export format type\n",
    ")\n",
    "\n",
    "# Rename tuned ONNX model to second_onnx.onnx\n",
    "shutil.move('runs/train/tunned_run/weights/best.onnx', 'second_onnx.onnx')\n",
    "\n",
    "export.run(\n",
    "    weights='runs/train/first_run2/weights/best.pt',  #path to .pt parameters (best weights attained)\n",
    "    imgsz=[640, 640], #image size\n",
    "    include=['onnx'] #export format type\n",
    ")\n",
    "\n",
    "# Rename untuned ONNX model to first_onnx.onnx\n",
    "shutil.move('runs/train/first_run2/weights/best.onnx', 'first_onnx.onnx')\n",
    "\n",
    "#download the onnx file\n",
    "files.download('first_onnx.onnx')\n",
    "files.download('second_onnx.onnx')"
   ]
  },
  {
   "cell_type": "markdown",
   "metadata": {},
   "source": [
    "### Trying inference with ONNX"
   ]
  },
  {
   "cell_type": "code",
   "execution_count": null,
   "metadata": {},
   "outputs": [],
   "source": [
    "!python detect.py --weights runs/train/tunned_run/weights/best.onnx --source /content/yolov5_split/val/images --img 640"
   ]
  }
 ],
 "metadata": {
  "language_info": {
   "name": "python"
  }
 },
 "nbformat": 4,
 "nbformat_minor": 2
}
