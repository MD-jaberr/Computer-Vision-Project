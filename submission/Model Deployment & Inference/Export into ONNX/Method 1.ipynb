{
 "cells": [
  {
   "cell_type": "markdown",
   "metadata": {},
   "source": [
    "### Export to ONNX"
   ]
  },
  {
   "cell_type": "code",
   "execution_count": null,
   "metadata": {},
   "outputs": [],
   "source": [
    "%cd /content/yolov5/"
   ]
  },
  {
   "cell_type": "code",
   "execution_count": null,
   "metadata": {},
   "outputs": [],
   "source": [
    "from yolov5 import export\n",
    "from google.colab import files\n",
    "\n",
    "export.run(\n",
    "    weights='runs/train/tunned_run/weights/best.pt',  #path to .pt parameters (best weights attained)\n",
    "    imgsz=[640, 640], #image size\n",
    "    include=['onnx'] #export format type\n",
    ")\n",
    "\n",
    "#download the onnx file\n",
    "files.download('runs/train/tunned_run/weights/best.onnx')\n"
   ]
  },
  {
   "cell_type": "markdown",
   "metadata": {},
   "source": [
    "### Trying inference with ONNX"
   ]
  },
  {
   "cell_type": "code",
   "execution_count": null,
   "metadata": {},
   "outputs": [],
   "source": [
    "!python detect.py --weights runs/train/tunned_run/weights/best.onnx --source /content/yolov5_split/val/images --img 640"
   ]
  }
 ],
 "metadata": {
  "language_info": {
   "name": "python"
  }
 },
 "nbformat": 4,
 "nbformat_minor": 2
}
